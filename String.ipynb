{
 "cells": [
  {
   "cell_type": "code",
   "execution_count": 1,
   "metadata": {},
   "outputs": [
    {
     "name": "stdout",
     "output_type": "stream",
     "text": [
      "String 1\n",
      "stringName2\n",
      "String Name 3\n"
     ]
    }
   ],
   "source": [
    "# Declare Strings \n",
    "\n",
    "# NOTE:  We can Define Three type Of String Data \n",
    "stringName1= 'String 1';\n",
    "print(stringName1)\n",
    "\n",
    "StringName2 = \"stringName2\"\n",
    "print(StringName2)\n",
    "\n",
    "StringName3 = '''String Name 3'''\n",
    "print(StringName3)"
   ]
  },
  {
   "cell_type": "code",
   "execution_count": 3,
   "metadata": {},
   "outputs": [
    {
     "name": "stdout",
     "output_type": "stream",
     "text": [
      "u\n"
     ]
    }
   ],
   "source": [
    "# Accessing Variable Using Indexing\n",
    "s1= \"BuunyMangla\"\n",
    "print(s1[2])"
   ]
  },
  {
   "cell_type": "code",
   "execution_count": 4,
   "metadata": {},
   "outputs": [
    {
     "name": "stdout",
     "output_type": "stream",
     "text": [
      "String!string2\n"
     ]
    }
   ],
   "source": [
    "# Concatination Between Two Strings\n",
    "s1= \"String!\"\n",
    "s2=\"string2\"\n",
    "print(s1+s2)"
   ]
  },
  {
   "cell_type": "code",
   "execution_count": 5,
   "metadata": {},
   "outputs": [
    {
     "name": "stdout",
     "output_type": "stream",
     "text": [
      "bunnymangla\n",
      "BUNNYMANGLA\n",
      "['BunnyMangla']\n"
     ]
    }
   ],
   "source": [
    "# SOMME IMPORTANT FUNCTION FOR STRING \n",
    "\n",
    "S1 = \"BunnyMangla\"\n",
    "print(S1.lower())\n",
    "print(S1.upper())\n",
    "print(S1.split())\n",
    "\n",
    "\n"
   ]
  },
  {
   "cell_type": "code",
   "execution_count": 9,
   "metadata": {},
   "outputs": [
    {
     "ename": "IndentationError",
     "evalue": "unexpected indent (<ipython-input-9-a0b4fca09e70>, line 2)",
     "output_type": "error",
     "traceback": [
      "\u001b[1;36m  File \u001b[1;32m\"<ipython-input-9-a0b4fca09e70>\"\u001b[1;36m, line \u001b[1;32m2\u001b[0m\n\u001b[1;33m    a= s.split()\u001b[0m\n\u001b[1;37m    ^\u001b[0m\n\u001b[1;31mIndentationError\u001b[0m\u001b[1;31m:\u001b[0m unexpected indent\n"
     ]
    }
   ],
   "source": []
  },
  {
   "cell_type": "code",
   "execution_count": null,
   "metadata": {},
   "outputs": [],
   "source": []
  }
 ],
 "metadata": {
  "kernelspec": {
   "display_name": "Python 3",
   "language": "python",
   "name": "python3"
  },
  "language_info": {
   "codemirror_mode": {
    "name": "ipython",
    "version": 3
   },
   "file_extension": ".py",
   "mimetype": "text/x-python",
   "name": "python",
   "nbconvert_exporter": "python",
   "pygments_lexer": "ipython3",
   "version": "3.7.3"
  }
 },
 "nbformat": 4,
 "nbformat_minor": 2
}
